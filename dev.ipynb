{
 "cells": [
  {
   "cell_type": "code",
   "execution_count": 14,
   "metadata": {},
   "outputs": [],
   "source": [
    "with open(\"datasets/Star Wars Scripts/SW_EpisodeIV.txt\") as f:\n",
    "    lines1 = f.readlines()[1:]\n",
    "\n",
    "with open(\"datasets/Star Wars Scripts/SW_EpisodeV.txt\") as f:\n",
    "    lines2 = f.readlines()[1:]\n",
    "\n",
    "with open(\"datasets/Star Wars Scripts/SW_EpisodeVI.txt\") as f:\n",
    "    lines3 = f.readlines()[1:]\n",
    "\n",
    "lines = lines1 + lines2 + lines3"
   ]
  },
  {
   "cell_type": "code",
   "execution_count": 15,
   "metadata": {},
   "outputs": [],
   "source": [
    "data = \"\"\n",
    "for line in lines:\n",
    "    split = line.split('\"')\n",
    "    character = split[3]\n",
    "    dialog = split[5]\n",
    "\n",
    "    data += character + ':\\n' + dialog + '\\n\\n'"
   ]
  },
  {
   "cell_type": "code",
   "execution_count": 16,
   "metadata": {},
   "outputs": [],
   "source": [
    "with open(\"starwars.txt\", 'w') as f:\n",
    "    f.write(data)"
   ]
  }
 ],
 "metadata": {
  "kernelspec": {
   "display_name": "venv",
   "language": "python",
   "name": "python3"
  },
  "language_info": {
   "codemirror_mode": {
    "name": "ipython",
    "version": 3
   },
   "file_extension": ".py",
   "mimetype": "text/x-python",
   "name": "python",
   "nbconvert_exporter": "python",
   "pygments_lexer": "ipython3",
   "version": "3.10.6"
  },
  "orig_nbformat": 4,
  "vscode": {
   "interpreter": {
    "hash": "9338de7ddb2bb192bdb32968e5790b91dceb6fc59940984a0759d8a1d43972ce"
   }
  }
 },
 "nbformat": 4,
 "nbformat_minor": 2
}
